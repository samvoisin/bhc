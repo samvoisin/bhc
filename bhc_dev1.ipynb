{
 "cells": [
  {
   "cell_type": "markdown",
   "metadata": {},
   "source": [
    "# Scenario Testing BHC Module"
   ]
  },
  {
   "cell_type": "code",
   "execution_count": 1,
   "metadata": {},
   "outputs": [],
   "source": [
    "import numpy as np\n",
    "import pandas as pd\n",
    "from scipy import stats\n",
    "from scipy import linalg as la\n",
    "from scipy import random as rnd\n",
    "from scipy.special import gamma\n",
    "import matplotlib.pyplot as plt\n",
    "import seaborn as sns\n",
    "\n",
    "%matplotlib inline"
   ]
  },
  {
   "cell_type": "markdown",
   "metadata": {},
   "source": [
    "#### Univariate Gaussian mixture (example data set):"
   ]
  },
  {
   "cell_type": "code",
   "execution_count": 17,
   "metadata": {},
   "outputs": [],
   "source": [
    "rnd.seed(1)\n",
    "mu1, s1, n1 = (0,1,100)\n",
    "mu2, s2, n2 = (3,0.75,50)\n",
    "mu3, s3, n3 = (-2,1.2,180)\n",
    "# generate random values\n",
    "g1 = rnd.normal(loc=mu1, scale=s1, size=n1)\n",
    "g2 = rnd.normal(loc=mu2, scale=s2, size=n2)\n",
    "g3 = rnd.normal(loc=mu3, scale=s3, size=n3)\n",
    "# store values\n",
    "tst_pts = np.zeros(n1+n2+n3)\n",
    "tst_pts[:n1] = g1\n",
    "tst_pts[n1:n1+n2] = g2\n",
    "tst_pts[n1+n2:] = g3"
   ]
  },
  {
   "cell_type": "code",
   "execution_count": 18,
   "metadata": {},
   "outputs": [
    {
     "data": {
      "image/png": "[encoded data removed]",
      "text/plain": [
       "<Figure size 432x288 with 1 Axes>"
      ]
     },
     "metadata": {
      "needs_background": "light"
     },
     "output_type": "display_data"
    }
   ],
   "source": [
    "sns.distplot(g1)\n",
    "sns.distplot(g2)\n",
    "sns.distplot(g3)\n",
    "plt.show()"
   ]
  },
  {
   "cell_type": "markdown",
   "metadata": {},
   "source": [
    "#### Three component multivariate Gaussian mixture (example data set):"
   ]
  },
  {
   "cell_type": "code",
   "execution_count": null,
   "metadata": {},
   "outputs": [],
   "source": [
    "n_dim = 3 # dimension of problem\n",
    "\n",
    "# bivariate gaussian params\n",
    "mu1 = np.zeros(3)\n",
    "cov1 = np.eye(3)\n",
    "\n",
    "mu2 = np.array([5, 3, 0])\n",
    "cov2 = np.eye(3)\n",
    "\n",
    "mu3 = np.array([8, 12, 1])\n",
    "cov3 = np.eye(3)* 0.5\n",
    "\n",
    "# multinom params\n",
    "p1 = 0.3\n",
    "p2 = 0.4\n",
    "p3 = 1 - p2 - p1\n",
    "\n",
    "# number of total draws\n",
    "draws = 100"
   ]
  },
  {
   "cell_type": "code",
   "execution_count": null,
   "metadata": {},
   "outputs": [],
   "source": [
    "# random draws\n",
    "rnd.seed(1)\n",
    "\n",
    "knum = rnd.multinomial(draws, (p1, p2, p3))\n",
    "\n",
    "gaus1 = rnd.multivariate_normal(mu1, cov1, knum[0])\n",
    "gaus2 = rnd.multivariate_normal(mu2, cov2, knum[1])\n",
    "gaus3 = rnd.multivariate_normal(mu3, cov3, knum[2])\n",
    "\n",
    "# join columns into dataframe\n",
    "x1 = pd.Series(np.r_[gaus1[:, 0], gaus2[:, 0], gaus3[:, 0]])\n",
    "x2 = pd.Series(np.r_[gaus1[:, 1], gaus2[:, 1], gaus3[:, 1]])\n",
    "x3 = pd.Series(np.r_[gaus1[:, 2], gaus2[:, 2], gaus3[:, 2]])\n",
    "c = pd.Series(np.r_[np.zeros(knum[0]), np.ones(knum[1]), np.ones(knum[2]) * 2])\n",
    "dat = {\"x1\" : x1, \"x2\" : x2, \"x3\" : x3, \"c\" : c}\n",
    "clustData = pd.DataFrame(dat)"
   ]
  },
  {
   "cell_type": "code",
   "execution_count": null,
   "metadata": {},
   "outputs": [],
   "source": [
    "plt.scatter(clustData[\"x1\"], clustData[\"x2\"], c = clustData[\"c\"])\n",
    "plt.title(\"Visualizing the Clusters\")\n",
    "plt.show()"
   ]
  }
 ],
 "metadata": {
  "kernelspec": {
   "display_name": "Python 3",
   "language": "python",
   "name": "python3"
  },
  "language_info": {
   "codemirror_mode": {
    "name": "ipython",
    "version": 3
   },
   "file_extension": ".py",
   "mimetype": "text/x-python",
   "name": "python",
   "nbconvert_exporter": "python",
   "pygments_lexer": "ipython3",
   "version": "3.7.2"
  }
 },
 "nbformat": 4,
 "nbformat_minor": 2
}
